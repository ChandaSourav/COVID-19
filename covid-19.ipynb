{
 "cells": [
  {
   "cell_type": "markdown",
   "id": "1e603980",
   "metadata": {
    "papermill": {
     "duration": 0.007383,
     "end_time": "2023-04-19T18:07:35.492751",
     "exception": false,
     "start_time": "2023-04-19T18:07:35.485368",
     "status": "completed"
    },
    "tags": []
   },
   "source": [
    "# Import Libraries"
   ]
  },
  {
   "cell_type": "code",
   "execution_count": 1,
   "id": "e197ba46",
   "metadata": {
    "_cell_guid": "b1076dfc-b9ad-4769-8c92-a6c4dae69d19",
    "_uuid": "8f2839f25d086af736a60e9eeb907d3b93b6e0e5",
    "execution": {
     "iopub.execute_input": "2023-04-19T18:07:35.507389Z",
     "iopub.status.busy": "2023-04-19T18:07:35.506917Z",
     "iopub.status.idle": "2023-04-19T18:07:37.219101Z",
     "shell.execute_reply": "2023-04-19T18:07:37.216943Z"
    },
    "papermill": {
     "duration": 1.723131,
     "end_time": "2023-04-19T18:07:37.222259",
     "exception": false,
     "start_time": "2023-04-19T18:07:35.499128",
     "status": "completed"
    },
    "tags": []
   },
   "outputs": [
    {
     "name": "stdout",
     "output_type": "stream",
     "text": [
      "/kaggle/input/covid19-symptoms-checker/Cleaned-Data.csv\n",
      "/kaggle/input/covid19-symptoms-checker/Raw-Data.csv\n"
     ]
    }
   ],
   "source": [
    "import numpy as np \n",
    "import pandas as pd \n",
    "import seaborn as sns\n",
    "from sklearn.model_selection import train_test_split\n",
    "from sklearn.linear_model import LogisticRegression\n",
    "from sklearn.metrics import precision_score, recall_score, accuracy_score, f1_score, confusion_matrix, ConfusionMatrixDisplay, classification_report\n",
    "\n",
    "import os\n",
    "for dirname, _, filenames in os.walk('/kaggle/input'):\n",
    "    for filename in filenames:\n",
    "        print(os.path.join(dirname, filename))"
   ]
  },
  {
   "cell_type": "markdown",
   "id": "85c820cf",
   "metadata": {
    "papermill": {
     "duration": 0.006061,
     "end_time": "2023-04-19T18:07:37.234810",
     "exception": false,
     "start_time": "2023-04-19T18:07:37.228749",
     "status": "completed"
    },
    "tags": []
   },
   "source": [
    "# Load Data"
   ]
  },
  {
   "cell_type": "code",
   "execution_count": 2,
   "id": "a054365d",
   "metadata": {
    "execution": {
     "iopub.execute_input": "2023-04-19T18:07:37.249489Z",
     "iopub.status.busy": "2023-04-19T18:07:37.248983Z",
     "iopub.status.idle": "2023-04-19T18:07:38.312766Z",
     "shell.execute_reply": "2023-04-19T18:07:38.311107Z"
    },
    "papermill": {
     "duration": 1.074825,
     "end_time": "2023-04-19T18:07:38.315906",
     "exception": false,
     "start_time": "2023-04-19T18:07:37.241081",
     "status": "completed"
    },
    "tags": []
   },
   "outputs": [
    {
     "data": {
      "text/html": [
       "<div>\n",
       "<style scoped>\n",
       "    .dataframe tbody tr th:only-of-type {\n",
       "        vertical-align: middle;\n",
       "    }\n",
       "\n",
       "    .dataframe tbody tr th {\n",
       "        vertical-align: top;\n",
       "    }\n",
       "\n",
       "    .dataframe thead th {\n",
       "        text-align: right;\n",
       "    }\n",
       "</style>\n",
       "<table border=\"1\" class=\"dataframe\">\n",
       "  <thead>\n",
       "    <tr style=\"text-align: right;\">\n",
       "      <th></th>\n",
       "      <th>Fever</th>\n",
       "      <th>Tiredness</th>\n",
       "      <th>Dry-Cough</th>\n",
       "      <th>Difficulty-in-Breathing</th>\n",
       "      <th>Sore-Throat</th>\n",
       "      <th>None_Sympton</th>\n",
       "      <th>Pains</th>\n",
       "      <th>Nasal-Congestion</th>\n",
       "      <th>Runny-Nose</th>\n",
       "      <th>Diarrhea</th>\n",
       "      <th>...</th>\n",
       "      <th>Gender_Male</th>\n",
       "      <th>Gender_Transgender</th>\n",
       "      <th>Severity_Mild</th>\n",
       "      <th>Severity_Moderate</th>\n",
       "      <th>Severity_None</th>\n",
       "      <th>Severity_Severe</th>\n",
       "      <th>Contact_Dont-Know</th>\n",
       "      <th>Contact_No</th>\n",
       "      <th>Contact_Yes</th>\n",
       "      <th>Country</th>\n",
       "    </tr>\n",
       "  </thead>\n",
       "  <tbody>\n",
       "    <tr>\n",
       "      <th>0</th>\n",
       "      <td>1</td>\n",
       "      <td>1</td>\n",
       "      <td>1</td>\n",
       "      <td>1</td>\n",
       "      <td>1</td>\n",
       "      <td>0</td>\n",
       "      <td>1</td>\n",
       "      <td>1</td>\n",
       "      <td>1</td>\n",
       "      <td>1</td>\n",
       "      <td>...</td>\n",
       "      <td>1</td>\n",
       "      <td>0</td>\n",
       "      <td>1</td>\n",
       "      <td>0</td>\n",
       "      <td>0</td>\n",
       "      <td>0</td>\n",
       "      <td>0</td>\n",
       "      <td>0</td>\n",
       "      <td>1</td>\n",
       "      <td>China</td>\n",
       "    </tr>\n",
       "    <tr>\n",
       "      <th>1</th>\n",
       "      <td>1</td>\n",
       "      <td>1</td>\n",
       "      <td>1</td>\n",
       "      <td>1</td>\n",
       "      <td>1</td>\n",
       "      <td>0</td>\n",
       "      <td>1</td>\n",
       "      <td>1</td>\n",
       "      <td>1</td>\n",
       "      <td>1</td>\n",
       "      <td>...</td>\n",
       "      <td>1</td>\n",
       "      <td>0</td>\n",
       "      <td>1</td>\n",
       "      <td>0</td>\n",
       "      <td>0</td>\n",
       "      <td>0</td>\n",
       "      <td>0</td>\n",
       "      <td>1</td>\n",
       "      <td>0</td>\n",
       "      <td>China</td>\n",
       "    </tr>\n",
       "    <tr>\n",
       "      <th>2</th>\n",
       "      <td>1</td>\n",
       "      <td>1</td>\n",
       "      <td>1</td>\n",
       "      <td>1</td>\n",
       "      <td>1</td>\n",
       "      <td>0</td>\n",
       "      <td>1</td>\n",
       "      <td>1</td>\n",
       "      <td>1</td>\n",
       "      <td>1</td>\n",
       "      <td>...</td>\n",
       "      <td>1</td>\n",
       "      <td>0</td>\n",
       "      <td>1</td>\n",
       "      <td>0</td>\n",
       "      <td>0</td>\n",
       "      <td>0</td>\n",
       "      <td>1</td>\n",
       "      <td>0</td>\n",
       "      <td>0</td>\n",
       "      <td>China</td>\n",
       "    </tr>\n",
       "    <tr>\n",
       "      <th>3</th>\n",
       "      <td>1</td>\n",
       "      <td>1</td>\n",
       "      <td>1</td>\n",
       "      <td>1</td>\n",
       "      <td>1</td>\n",
       "      <td>0</td>\n",
       "      <td>1</td>\n",
       "      <td>1</td>\n",
       "      <td>1</td>\n",
       "      <td>1</td>\n",
       "      <td>...</td>\n",
       "      <td>1</td>\n",
       "      <td>0</td>\n",
       "      <td>0</td>\n",
       "      <td>1</td>\n",
       "      <td>0</td>\n",
       "      <td>0</td>\n",
       "      <td>0</td>\n",
       "      <td>0</td>\n",
       "      <td>1</td>\n",
       "      <td>China</td>\n",
       "    </tr>\n",
       "    <tr>\n",
       "      <th>4</th>\n",
       "      <td>1</td>\n",
       "      <td>1</td>\n",
       "      <td>1</td>\n",
       "      <td>1</td>\n",
       "      <td>1</td>\n",
       "      <td>0</td>\n",
       "      <td>1</td>\n",
       "      <td>1</td>\n",
       "      <td>1</td>\n",
       "      <td>1</td>\n",
       "      <td>...</td>\n",
       "      <td>1</td>\n",
       "      <td>0</td>\n",
       "      <td>0</td>\n",
       "      <td>1</td>\n",
       "      <td>0</td>\n",
       "      <td>0</td>\n",
       "      <td>0</td>\n",
       "      <td>1</td>\n",
       "      <td>0</td>\n",
       "      <td>China</td>\n",
       "    </tr>\n",
       "    <tr>\n",
       "      <th>...</th>\n",
       "      <td>...</td>\n",
       "      <td>...</td>\n",
       "      <td>...</td>\n",
       "      <td>...</td>\n",
       "      <td>...</td>\n",
       "      <td>...</td>\n",
       "      <td>...</td>\n",
       "      <td>...</td>\n",
       "      <td>...</td>\n",
       "      <td>...</td>\n",
       "      <td>...</td>\n",
       "      <td>...</td>\n",
       "      <td>...</td>\n",
       "      <td>...</td>\n",
       "      <td>...</td>\n",
       "      <td>...</td>\n",
       "      <td>...</td>\n",
       "      <td>...</td>\n",
       "      <td>...</td>\n",
       "      <td>...</td>\n",
       "      <td>...</td>\n",
       "    </tr>\n",
       "    <tr>\n",
       "      <th>316795</th>\n",
       "      <td>0</td>\n",
       "      <td>0</td>\n",
       "      <td>0</td>\n",
       "      <td>0</td>\n",
       "      <td>0</td>\n",
       "      <td>1</td>\n",
       "      <td>0</td>\n",
       "      <td>0</td>\n",
       "      <td>0</td>\n",
       "      <td>0</td>\n",
       "      <td>...</td>\n",
       "      <td>0</td>\n",
       "      <td>1</td>\n",
       "      <td>0</td>\n",
       "      <td>0</td>\n",
       "      <td>0</td>\n",
       "      <td>1</td>\n",
       "      <td>0</td>\n",
       "      <td>1</td>\n",
       "      <td>0</td>\n",
       "      <td>Other</td>\n",
       "    </tr>\n",
       "    <tr>\n",
       "      <th>316796</th>\n",
       "      <td>0</td>\n",
       "      <td>0</td>\n",
       "      <td>0</td>\n",
       "      <td>0</td>\n",
       "      <td>0</td>\n",
       "      <td>1</td>\n",
       "      <td>0</td>\n",
       "      <td>0</td>\n",
       "      <td>0</td>\n",
       "      <td>0</td>\n",
       "      <td>...</td>\n",
       "      <td>0</td>\n",
       "      <td>1</td>\n",
       "      <td>0</td>\n",
       "      <td>0</td>\n",
       "      <td>0</td>\n",
       "      <td>1</td>\n",
       "      <td>1</td>\n",
       "      <td>0</td>\n",
       "      <td>0</td>\n",
       "      <td>Other</td>\n",
       "    </tr>\n",
       "    <tr>\n",
       "      <th>316797</th>\n",
       "      <td>0</td>\n",
       "      <td>0</td>\n",
       "      <td>0</td>\n",
       "      <td>0</td>\n",
       "      <td>0</td>\n",
       "      <td>1</td>\n",
       "      <td>0</td>\n",
       "      <td>0</td>\n",
       "      <td>0</td>\n",
       "      <td>0</td>\n",
       "      <td>...</td>\n",
       "      <td>0</td>\n",
       "      <td>1</td>\n",
       "      <td>0</td>\n",
       "      <td>0</td>\n",
       "      <td>1</td>\n",
       "      <td>0</td>\n",
       "      <td>0</td>\n",
       "      <td>0</td>\n",
       "      <td>1</td>\n",
       "      <td>Other</td>\n",
       "    </tr>\n",
       "    <tr>\n",
       "      <th>316798</th>\n",
       "      <td>0</td>\n",
       "      <td>0</td>\n",
       "      <td>0</td>\n",
       "      <td>0</td>\n",
       "      <td>0</td>\n",
       "      <td>1</td>\n",
       "      <td>0</td>\n",
       "      <td>0</td>\n",
       "      <td>0</td>\n",
       "      <td>0</td>\n",
       "      <td>...</td>\n",
       "      <td>0</td>\n",
       "      <td>1</td>\n",
       "      <td>0</td>\n",
       "      <td>0</td>\n",
       "      <td>1</td>\n",
       "      <td>0</td>\n",
       "      <td>0</td>\n",
       "      <td>1</td>\n",
       "      <td>0</td>\n",
       "      <td>Other</td>\n",
       "    </tr>\n",
       "    <tr>\n",
       "      <th>316799</th>\n",
       "      <td>0</td>\n",
       "      <td>0</td>\n",
       "      <td>0</td>\n",
       "      <td>0</td>\n",
       "      <td>0</td>\n",
       "      <td>1</td>\n",
       "      <td>0</td>\n",
       "      <td>0</td>\n",
       "      <td>0</td>\n",
       "      <td>0</td>\n",
       "      <td>...</td>\n",
       "      <td>0</td>\n",
       "      <td>1</td>\n",
       "      <td>0</td>\n",
       "      <td>0</td>\n",
       "      <td>1</td>\n",
       "      <td>0</td>\n",
       "      <td>1</td>\n",
       "      <td>0</td>\n",
       "      <td>0</td>\n",
       "      <td>Other</td>\n",
       "    </tr>\n",
       "  </tbody>\n",
       "</table>\n",
       "<p>316800 rows × 27 columns</p>\n",
       "</div>"
      ],
      "text/plain": [
       "        Fever  Tiredness  Dry-Cough  Difficulty-in-Breathing  Sore-Throat  \\\n",
       "0           1          1          1                        1            1   \n",
       "1           1          1          1                        1            1   \n",
       "2           1          1          1                        1            1   \n",
       "3           1          1          1                        1            1   \n",
       "4           1          1          1                        1            1   \n",
       "...       ...        ...        ...                      ...          ...   \n",
       "316795      0          0          0                        0            0   \n",
       "316796      0          0          0                        0            0   \n",
       "316797      0          0          0                        0            0   \n",
       "316798      0          0          0                        0            0   \n",
       "316799      0          0          0                        0            0   \n",
       "\n",
       "        None_Sympton  Pains  Nasal-Congestion  Runny-Nose  Diarrhea  ...  \\\n",
       "0                  0      1                 1           1         1  ...   \n",
       "1                  0      1                 1           1         1  ...   \n",
       "2                  0      1                 1           1         1  ...   \n",
       "3                  0      1                 1           1         1  ...   \n",
       "4                  0      1                 1           1         1  ...   \n",
       "...              ...    ...               ...         ...       ...  ...   \n",
       "316795             1      0                 0           0         0  ...   \n",
       "316796             1      0                 0           0         0  ...   \n",
       "316797             1      0                 0           0         0  ...   \n",
       "316798             1      0                 0           0         0  ...   \n",
       "316799             1      0                 0           0         0  ...   \n",
       "\n",
       "        Gender_Male  Gender_Transgender  Severity_Mild  Severity_Moderate  \\\n",
       "0                 1                   0              1                  0   \n",
       "1                 1                   0              1                  0   \n",
       "2                 1                   0              1                  0   \n",
       "3                 1                   0              0                  1   \n",
       "4                 1                   0              0                  1   \n",
       "...             ...                 ...            ...                ...   \n",
       "316795            0                   1              0                  0   \n",
       "316796            0                   1              0                  0   \n",
       "316797            0                   1              0                  0   \n",
       "316798            0                   1              0                  0   \n",
       "316799            0                   1              0                  0   \n",
       "\n",
       "        Severity_None  Severity_Severe  Contact_Dont-Know  Contact_No  \\\n",
       "0                   0                0                  0           0   \n",
       "1                   0                0                  0           1   \n",
       "2                   0                0                  1           0   \n",
       "3                   0                0                  0           0   \n",
       "4                   0                0                  0           1   \n",
       "...               ...              ...                ...         ...   \n",
       "316795              0                1                  0           1   \n",
       "316796              0                1                  1           0   \n",
       "316797              1                0                  0           0   \n",
       "316798              1                0                  0           1   \n",
       "316799              1                0                  1           0   \n",
       "\n",
       "        Contact_Yes  Country  \n",
       "0                 1    China  \n",
       "1                 0    China  \n",
       "2                 0    China  \n",
       "3                 1    China  \n",
       "4                 0    China  \n",
       "...             ...      ...  \n",
       "316795            0    Other  \n",
       "316796            0    Other  \n",
       "316797            1    Other  \n",
       "316798            0    Other  \n",
       "316799            0    Other  \n",
       "\n",
       "[316800 rows x 27 columns]"
      ]
     },
     "execution_count": 2,
     "metadata": {},
     "output_type": "execute_result"
    }
   ],
   "source": [
    "df = pd.read_csv(\"/kaggle/input/covid19-symptoms-checker/Cleaned-Data.csv\")\n",
    "df"
   ]
  },
  {
   "cell_type": "markdown",
   "id": "c4a64461",
   "metadata": {
    "papermill": {
     "duration": 0.006536,
     "end_time": "2023-04-19T18:07:38.329540",
     "exception": false,
     "start_time": "2023-04-19T18:07:38.323004",
     "status": "completed"
    },
    "tags": []
   },
   "source": [
    "# Data Cleaning & Visualization"
   ]
  },
  {
   "cell_type": "code",
   "execution_count": 3,
   "id": "11f882f5",
   "metadata": {
    "execution": {
     "iopub.execute_input": "2023-04-19T18:07:38.345924Z",
     "iopub.status.busy": "2023-04-19T18:07:38.345500Z",
     "iopub.status.idle": "2023-04-19T18:07:38.401984Z",
     "shell.execute_reply": "2023-04-19T18:07:38.400025Z"
    },
    "papermill": {
     "duration": 0.06841,
     "end_time": "2023-04-19T18:07:38.405052",
     "exception": false,
     "start_time": "2023-04-19T18:07:38.336642",
     "status": "completed"
    },
    "tags": []
   },
   "outputs": [
    {
     "name": "stdout",
     "output_type": "stream",
     "text": [
      "<class 'pandas.core.frame.DataFrame'>\n",
      "RangeIndex: 316800 entries, 0 to 316799\n",
      "Data columns (total 27 columns):\n",
      " #   Column                   Non-Null Count   Dtype \n",
      "---  ------                   --------------   ----- \n",
      " 0   Fever                    316800 non-null  int64 \n",
      " 1   Tiredness                316800 non-null  int64 \n",
      " 2   Dry-Cough                316800 non-null  int64 \n",
      " 3   Difficulty-in-Breathing  316800 non-null  int64 \n",
      " 4   Sore-Throat              316800 non-null  int64 \n",
      " 5   None_Sympton             316800 non-null  int64 \n",
      " 6   Pains                    316800 non-null  int64 \n",
      " 7   Nasal-Congestion         316800 non-null  int64 \n",
      " 8   Runny-Nose               316800 non-null  int64 \n",
      " 9   Diarrhea                 316800 non-null  int64 \n",
      " 10  None_Experiencing        316800 non-null  int64 \n",
      " 11  Age_0-9                  316800 non-null  int64 \n",
      " 12  Age_10-19                316800 non-null  int64 \n",
      " 13  Age_20-24                316800 non-null  int64 \n",
      " 14  Age_25-59                316800 non-null  int64 \n",
      " 15  Age_60+                  316800 non-null  int64 \n",
      " 16  Gender_Female            316800 non-null  int64 \n",
      " 17  Gender_Male              316800 non-null  int64 \n",
      " 18  Gender_Transgender       316800 non-null  int64 \n",
      " 19  Severity_Mild            316800 non-null  int64 \n",
      " 20  Severity_Moderate        316800 non-null  int64 \n",
      " 21  Severity_None            316800 non-null  int64 \n",
      " 22  Severity_Severe          316800 non-null  int64 \n",
      " 23  Contact_Dont-Know        316800 non-null  int64 \n",
      " 24  Contact_No               316800 non-null  int64 \n",
      " 25  Contact_Yes              316800 non-null  int64 \n",
      " 26  Country                  316800 non-null  object\n",
      "dtypes: int64(26), object(1)\n",
      "memory usage: 65.3+ MB\n"
     ]
    }
   ],
   "source": [
    "df.info()"
   ]
  },
  {
   "cell_type": "code",
   "execution_count": 4,
   "id": "bfcbaed5",
   "metadata": {
    "execution": {
     "iopub.execute_input": "2023-04-19T18:07:38.421935Z",
     "iopub.status.busy": "2023-04-19T18:07:38.421431Z",
     "iopub.status.idle": "2023-04-19T18:07:50.688688Z",
     "shell.execute_reply": "2023-04-19T18:07:50.687678Z"
    },
    "papermill": {
     "duration": 12.279373,
     "end_time": "2023-04-19T18:07:50.691882",
     "exception": false,
     "start_time": "2023-04-19T18:07:38.412509",
     "status": "completed"
    },
    "tags": []
   },
   "outputs": [
    {
     "data": {
      "text/plain": [
       "<AxesSubplot:>"
      ]
     },
     "execution_count": 4,
     "metadata": {},
     "output_type": "execute_result"
    },
    {
     "data": {
      "image/png": "[encoded data removed]",
      "text/plain": [
       "<Figure size 640x480 with 2 Axes>"
      ]
     },
     "metadata": {},
     "output_type": "display_data"
    }
   ],
   "source": [
    "sns.heatmap(df.isnull())"
   ]
  },
  {
   "cell_type": "code",
   "execution_count": 5,
   "id": "3bb8260d",
   "metadata": {
    "execution": {
     "iopub.execute_input": "2023-04-19T18:07:50.711278Z",
     "iopub.status.busy": "2023-04-19T18:07:50.710825Z",
     "iopub.status.idle": "2023-04-19T18:07:50.745009Z",
     "shell.execute_reply": "2023-04-19T18:07:50.743066Z"
    },
    "papermill": {
     "duration": 0.047637,
     "end_time": "2023-04-19T18:07:50.748340",
     "exception": false,
     "start_time": "2023-04-19T18:07:50.700703",
     "status": "completed"
    },
    "tags": []
   },
   "outputs": [],
   "source": [
    "null = df.isnull().sum()"
   ]
  },
  {
   "cell_type": "code",
   "execution_count": 6,
   "id": "74eddc83",
   "metadata": {
    "execution": {
     "iopub.execute_input": "2023-04-19T18:07:50.767696Z",
     "iopub.status.busy": "2023-04-19T18:07:50.767202Z",
     "iopub.status.idle": "2023-04-19T18:07:50.777087Z",
     "shell.execute_reply": "2023-04-19T18:07:50.775632Z"
    },
    "papermill": {
     "duration": 0.02274,
     "end_time": "2023-04-19T18:07:50.779723",
     "exception": false,
     "start_time": "2023-04-19T18:07:50.756983",
     "status": "completed"
    },
    "tags": []
   },
   "outputs": [
    {
     "data": {
      "text/plain": [
       "Index(['Fever', 'Tiredness', 'Dry-Cough', 'Difficulty-in-Breathing',\n",
       "       'Sore-Throat', 'None_Sympton', 'Pains', 'Nasal-Congestion',\n",
       "       'Runny-Nose', 'Diarrhea', 'None_Experiencing', 'Age_0-9', 'Age_10-19',\n",
       "       'Age_20-24', 'Age_25-59', 'Age_60+', 'Gender_Female', 'Gender_Male',\n",
       "       'Gender_Transgender', 'Severity_Mild', 'Severity_Moderate',\n",
       "       'Severity_None', 'Severity_Severe', 'Contact_Dont-Know', 'Contact_No',\n",
       "       'Contact_Yes', 'Country'],\n",
       "      dtype='object')"
      ]
     },
     "execution_count": 6,
     "metadata": {},
     "output_type": "execute_result"
    }
   ],
   "source": [
    "df.columns"
   ]
  },
  {
   "cell_type": "code",
   "execution_count": 7,
   "id": "7de247e4",
   "metadata": {
    "execution": {
     "iopub.execute_input": "2023-04-19T18:07:50.799499Z",
     "iopub.status.busy": "2023-04-19T18:07:50.799048Z",
     "iopub.status.idle": "2023-04-19T18:07:50.831696Z",
     "shell.execute_reply": "2023-04-19T18:07:50.830596Z"
    },
    "papermill": {
     "duration": 0.045565,
     "end_time": "2023-04-19T18:07:50.834257",
     "exception": false,
     "start_time": "2023-04-19T18:07:50.788692",
     "status": "completed"
    },
    "tags": []
   },
   "outputs": [
    {
     "data": {
      "text/html": [
       "<div>\n",
       "<style scoped>\n",
       "    .dataframe tbody tr th:only-of-type {\n",
       "        vertical-align: middle;\n",
       "    }\n",
       "\n",
       "    .dataframe tbody tr th {\n",
       "        vertical-align: top;\n",
       "    }\n",
       "\n",
       "    .dataframe thead th {\n",
       "        text-align: right;\n",
       "    }\n",
       "</style>\n",
       "<table border=\"1\" class=\"dataframe\">\n",
       "  <thead>\n",
       "    <tr style=\"text-align: right;\">\n",
       "      <th></th>\n",
       "      <th>Fever</th>\n",
       "      <th>Tiredness</th>\n",
       "      <th>Dry-Cough</th>\n",
       "      <th>Difficulty-in-Breathing</th>\n",
       "      <th>Sore-Throat</th>\n",
       "      <th>Pains</th>\n",
       "      <th>Nasal-Congestion</th>\n",
       "      <th>Runny-Nose</th>\n",
       "      <th>Diarrhea</th>\n",
       "      <th>Age_60+</th>\n",
       "      <th>Severity_Severe</th>\n",
       "    </tr>\n",
       "  </thead>\n",
       "  <tbody>\n",
       "    <tr>\n",
       "      <th>0</th>\n",
       "      <td>1</td>\n",
       "      <td>1</td>\n",
       "      <td>1</td>\n",
       "      <td>1</td>\n",
       "      <td>1</td>\n",
       "      <td>1</td>\n",
       "      <td>1</td>\n",
       "      <td>1</td>\n",
       "      <td>1</td>\n",
       "      <td>0</td>\n",
       "      <td>0</td>\n",
       "    </tr>\n",
       "    <tr>\n",
       "      <th>1</th>\n",
       "      <td>1</td>\n",
       "      <td>1</td>\n",
       "      <td>1</td>\n",
       "      <td>1</td>\n",
       "      <td>1</td>\n",
       "      <td>1</td>\n",
       "      <td>1</td>\n",
       "      <td>1</td>\n",
       "      <td>1</td>\n",
       "      <td>0</td>\n",
       "      <td>0</td>\n",
       "    </tr>\n",
       "    <tr>\n",
       "      <th>2</th>\n",
       "      <td>1</td>\n",
       "      <td>1</td>\n",
       "      <td>1</td>\n",
       "      <td>1</td>\n",
       "      <td>1</td>\n",
       "      <td>1</td>\n",
       "      <td>1</td>\n",
       "      <td>1</td>\n",
       "      <td>1</td>\n",
       "      <td>0</td>\n",
       "      <td>0</td>\n",
       "    </tr>\n",
       "    <tr>\n",
       "      <th>3</th>\n",
       "      <td>1</td>\n",
       "      <td>1</td>\n",
       "      <td>1</td>\n",
       "      <td>1</td>\n",
       "      <td>1</td>\n",
       "      <td>1</td>\n",
       "      <td>1</td>\n",
       "      <td>1</td>\n",
       "      <td>1</td>\n",
       "      <td>0</td>\n",
       "      <td>0</td>\n",
       "    </tr>\n",
       "    <tr>\n",
       "      <th>4</th>\n",
       "      <td>1</td>\n",
       "      <td>1</td>\n",
       "      <td>1</td>\n",
       "      <td>1</td>\n",
       "      <td>1</td>\n",
       "      <td>1</td>\n",
       "      <td>1</td>\n",
       "      <td>1</td>\n",
       "      <td>1</td>\n",
       "      <td>0</td>\n",
       "      <td>0</td>\n",
       "    </tr>\n",
       "    <tr>\n",
       "      <th>...</th>\n",
       "      <td>...</td>\n",
       "      <td>...</td>\n",
       "      <td>...</td>\n",
       "      <td>...</td>\n",
       "      <td>...</td>\n",
       "      <td>...</td>\n",
       "      <td>...</td>\n",
       "      <td>...</td>\n",
       "      <td>...</td>\n",
       "      <td>...</td>\n",
       "      <td>...</td>\n",
       "    </tr>\n",
       "    <tr>\n",
       "      <th>316795</th>\n",
       "      <td>0</td>\n",
       "      <td>0</td>\n",
       "      <td>0</td>\n",
       "      <td>0</td>\n",
       "      <td>0</td>\n",
       "      <td>0</td>\n",
       "      <td>0</td>\n",
       "      <td>0</td>\n",
       "      <td>0</td>\n",
       "      <td>1</td>\n",
       "      <td>1</td>\n",
       "    </tr>\n",
       "    <tr>\n",
       "      <th>316796</th>\n",
       "      <td>0</td>\n",
       "      <td>0</td>\n",
       "      <td>0</td>\n",
       "      <td>0</td>\n",
       "      <td>0</td>\n",
       "      <td>0</td>\n",
       "      <td>0</td>\n",
       "      <td>0</td>\n",
       "      <td>0</td>\n",
       "      <td>1</td>\n",
       "      <td>1</td>\n",
       "    </tr>\n",
       "    <tr>\n",
       "      <th>316797</th>\n",
       "      <td>0</td>\n",
       "      <td>0</td>\n",
       "      <td>0</td>\n",
       "      <td>0</td>\n",
       "      <td>0</td>\n",
       "      <td>0</td>\n",
       "      <td>0</td>\n",
       "      <td>0</td>\n",
       "      <td>0</td>\n",
       "      <td>1</td>\n",
       "      <td>0</td>\n",
       "    </tr>\n",
       "    <tr>\n",
       "      <th>316798</th>\n",
       "      <td>0</td>\n",
       "      <td>0</td>\n",
       "      <td>0</td>\n",
       "      <td>0</td>\n",
       "      <td>0</td>\n",
       "      <td>0</td>\n",
       "      <td>0</td>\n",
       "      <td>0</td>\n",
       "      <td>0</td>\n",
       "      <td>1</td>\n",
       "      <td>0</td>\n",
       "    </tr>\n",
       "    <tr>\n",
       "      <th>316799</th>\n",
       "      <td>0</td>\n",
       "      <td>0</td>\n",
       "      <td>0</td>\n",
       "      <td>0</td>\n",
       "      <td>0</td>\n",
       "      <td>0</td>\n",
       "      <td>0</td>\n",
       "      <td>0</td>\n",
       "      <td>0</td>\n",
       "      <td>1</td>\n",
       "      <td>0</td>\n",
       "    </tr>\n",
       "  </tbody>\n",
       "</table>\n",
       "<p>316800 rows × 11 columns</p>\n",
       "</div>"
      ],
      "text/plain": [
       "        Fever  Tiredness  Dry-Cough  Difficulty-in-Breathing  Sore-Throat  \\\n",
       "0           1          1          1                        1            1   \n",
       "1           1          1          1                        1            1   \n",
       "2           1          1          1                        1            1   \n",
       "3           1          1          1                        1            1   \n",
       "4           1          1          1                        1            1   \n",
       "...       ...        ...        ...                      ...          ...   \n",
       "316795      0          0          0                        0            0   \n",
       "316796      0          0          0                        0            0   \n",
       "316797      0          0          0                        0            0   \n",
       "316798      0          0          0                        0            0   \n",
       "316799      0          0          0                        0            0   \n",
       "\n",
       "        Pains  Nasal-Congestion  Runny-Nose  Diarrhea  Age_60+  \\\n",
       "0           1                 1           1         1        0   \n",
       "1           1                 1           1         1        0   \n",
       "2           1                 1           1         1        0   \n",
       "3           1                 1           1         1        0   \n",
       "4           1                 1           1         1        0   \n",
       "...       ...               ...         ...       ...      ...   \n",
       "316795      0                 0           0         0        1   \n",
       "316796      0                 0           0         0        1   \n",
       "316797      0                 0           0         0        1   \n",
       "316798      0                 0           0         0        1   \n",
       "316799      0                 0           0         0        1   \n",
       "\n",
       "        Severity_Severe  \n",
       "0                     0  \n",
       "1                     0  \n",
       "2                     0  \n",
       "3                     0  \n",
       "4                     0  \n",
       "...                 ...  \n",
       "316795                1  \n",
       "316796                1  \n",
       "316797                0  \n",
       "316798                0  \n",
       "316799                0  \n",
       "\n",
       "[316800 rows x 11 columns]"
      ]
     },
     "execution_count": 7,
     "metadata": {},
     "output_type": "execute_result"
    }
   ],
   "source": [
    "df.drop(['Contact_Dont-Know', 'Contact_No', 'Contact_Yes', 'Country', 'Severity_Mild', 'Severity_Moderate', 'Severity_None', 'None_Experiencing', 'Age_0-9', 'Age_10-19', 'Age_20-24', 'Age_25-59', 'Gender_Female', 'Gender_Male', 'Gender_Transgender', 'None_Sympton'], axis = 1, inplace = True)\n",
    "df"
   ]
  },
  {
   "cell_type": "code",
   "execution_count": 8,
   "id": "02d0ca7d",
   "metadata": {
    "execution": {
     "iopub.execute_input": "2023-04-19T18:07:50.855308Z",
     "iopub.status.busy": "2023-04-19T18:07:50.853839Z",
     "iopub.status.idle": "2023-04-19T18:07:52.324232Z",
     "shell.execute_reply": "2023-04-19T18:07:52.322942Z"
    },
    "papermill": {
     "duration": 1.483576,
     "end_time": "2023-04-19T18:07:52.326890",
     "exception": false,
     "start_time": "2023-04-19T18:07:50.843314",
     "status": "completed"
    },
    "tags": []
   },
   "outputs": [
    {
     "data": {
      "text/plain": [
       "array([[<AxesSubplot:title={'center':'Fever'}>,\n",
       "        <AxesSubplot:title={'center':'Tiredness'}>,\n",
       "        <AxesSubplot:title={'center':'Dry-Cough'}>],\n",
       "       [<AxesSubplot:title={'center':'Difficulty-in-Breathing'}>,\n",
       "        <AxesSubplot:title={'center':'Sore-Throat'}>,\n",
       "        <AxesSubplot:title={'center':'Pains'}>],\n",
       "       [<AxesSubplot:title={'center':'Nasal-Congestion'}>,\n",
       "        <AxesSubplot:title={'center':'Runny-Nose'}>,\n",
       "        <AxesSubplot:title={'center':'Diarrhea'}>],\n",
       "       [<AxesSubplot:title={'center':'Age_60+'}>,\n",
       "        <AxesSubplot:title={'center':'Severity_Severe'}>, <AxesSubplot:>]],\n",
       "      dtype=object)"
      ]
     },
     "execution_count": 8,
     "metadata": {},
     "output_type": "execute_result"
    },
    {
     "data": {
      "image/png": "[encoded data removed]",
      "text/plain": [
       "<Figure size 640x480 with 12 Axes>"
      ]
     },
     "metadata": {},
     "output_type": "display_data"
    }
   ],
   "source": [
    "df.hist()"
   ]
  },
  {
   "cell_type": "markdown",
   "id": "79d17333",
   "metadata": {
    "papermill": {
     "duration": 0.009554,
     "end_time": "2023-04-19T18:07:52.347587",
     "exception": false,
     "start_time": "2023-04-19T18:07:52.338033",
     "status": "completed"
    },
    "tags": []
   },
   "source": [
    "# Train & Test Splitting The Data"
   ]
  },
  {
   "cell_type": "code",
   "execution_count": 9,
   "id": "9d691acc",
   "metadata": {
    "execution": {
     "iopub.execute_input": "2023-04-19T18:07:52.369645Z",
     "iopub.status.busy": "2023-04-19T18:07:52.369175Z",
     "iopub.status.idle": "2023-04-19T18:07:52.418063Z",
     "shell.execute_reply": "2023-04-19T18:07:52.416531Z"
    },
    "papermill": {
     "duration": 0.063965,
     "end_time": "2023-04-19T18:07:52.421399",
     "exception": false,
     "start_time": "2023-04-19T18:07:52.357434",
     "status": "completed"
    },
    "tags": []
   },
   "outputs": [],
   "source": [
    "train, test = train_test_split(df, test_size = 0.3, random_state=0)"
   ]
  },
  {
   "cell_type": "code",
   "execution_count": 10,
   "id": "cc0fb5a5",
   "metadata": {
    "execution": {
     "iopub.execute_input": "2023-04-19T18:07:52.444535Z",
     "iopub.status.busy": "2023-04-19T18:07:52.444043Z",
     "iopub.status.idle": "2023-04-19T18:07:52.451092Z",
     "shell.execute_reply": "2023-04-19T18:07:52.449728Z"
    },
    "papermill": {
     "duration": 0.022004,
     "end_time": "2023-04-19T18:07:52.453623",
     "exception": false,
     "start_time": "2023-04-19T18:07:52.431619",
     "status": "completed"
    },
    "tags": []
   },
   "outputs": [],
   "source": [
    "pred = test.copy()"
   ]
  },
  {
   "cell_type": "code",
   "execution_count": 11,
   "id": "c5dcd530",
   "metadata": {
    "execution": {
     "iopub.execute_input": "2023-04-19T18:07:52.476334Z",
     "iopub.status.busy": "2023-04-19T18:07:52.474921Z",
     "iopub.status.idle": "2023-04-19T18:07:52.481892Z",
     "shell.execute_reply": "2023-04-19T18:07:52.480746Z"
    },
    "papermill": {
     "duration": 0.021179,
     "end_time": "2023-04-19T18:07:52.484598",
     "exception": false,
     "start_time": "2023-04-19T18:07:52.463419",
     "status": "completed"
    },
    "tags": []
   },
   "outputs": [],
   "source": [
    "x_train = train.iloc[:, :19].values\n",
    "x_test = test.iloc[:, :19].values"
   ]
  },
  {
   "cell_type": "code",
   "execution_count": 12,
   "id": "25e346ee",
   "metadata": {
    "execution": {
     "iopub.execute_input": "2023-04-19T18:07:52.506699Z",
     "iopub.status.busy": "2023-04-19T18:07:52.506226Z",
     "iopub.status.idle": "2023-04-19T18:07:52.513336Z",
     "shell.execute_reply": "2023-04-19T18:07:52.511875Z"
    },
    "papermill": {
     "duration": 0.021241,
     "end_time": "2023-04-19T18:07:52.516032",
     "exception": false,
     "start_time": "2023-04-19T18:07:52.494791",
     "status": "completed"
    },
    "tags": []
   },
   "outputs": [],
   "source": [
    "y_train = train.iloc[:, -1].values\n",
    "y_test = test.iloc[:, -1].values"
   ]
  },
  {
   "cell_type": "markdown",
   "id": "d3e57d1d",
   "metadata": {
    "papermill": {
     "duration": 0.009623,
     "end_time": "2023-04-19T18:07:52.535614",
     "exception": false,
     "start_time": "2023-04-19T18:07:52.525991",
     "status": "completed"
    },
    "tags": []
   },
   "source": [
    "# Function to Measure Performance"
   ]
  },
  {
   "cell_type": "code",
   "execution_count": 13,
   "id": "85f4ec0e",
   "metadata": {
    "execution": {
     "iopub.execute_input": "2023-04-19T18:07:52.557367Z",
     "iopub.status.busy": "2023-04-19T18:07:52.556917Z",
     "iopub.status.idle": "2023-04-19T18:07:52.564784Z",
     "shell.execute_reply": "2023-04-19T18:07:52.563027Z"
    },
    "papermill": {
     "duration": 0.022071,
     "end_time": "2023-04-19T18:07:52.567658",
     "exception": false,
     "start_time": "2023-04-19T18:07:52.545587",
     "status": "completed"
    },
    "tags": []
   },
   "outputs": [],
   "source": [
    "def perform(y_pred):\n",
    "    print(\"Precision : \", precision_score(y_test, y_pred))\n",
    "    print(\"Recall : \", recall_score(y_test, y_pred))\n",
    "    print(\"Accuracy : \", accuracy_score(y_test, y_pred))\n",
    "    print(\"F1 Score : \", f1_score(y_test, y_pred))\n",
    "    print('')\n",
    "    print(confusion_matrix(y_test, y_pred), '\\n')\n",
    "    cm = ConfusionMatrixDisplay(confusion_matrix=confusion_matrix(y_test, y_pred))\n",
    "    cm.plot()"
   ]
  },
  {
   "cell_type": "markdown",
   "id": "2689767f",
   "metadata": {
    "papermill": {
     "duration": 0.009506,
     "end_time": "2023-04-19T18:07:52.587027",
     "exception": false,
     "start_time": "2023-04-19T18:07:52.577521",
     "status": "completed"
    },
    "tags": []
   },
   "source": [
    "# Logistic Regression"
   ]
  },
  {
   "cell_type": "code",
   "execution_count": 14,
   "id": "11010890",
   "metadata": {
    "execution": {
     "iopub.execute_input": "2023-04-19T18:07:52.608884Z",
     "iopub.status.busy": "2023-04-19T18:07:52.608379Z",
     "iopub.status.idle": "2023-04-19T18:07:53.213312Z",
     "shell.execute_reply": "2023-04-19T18:07:53.211786Z"
    },
    "papermill": {
     "duration": 0.620254,
     "end_time": "2023-04-19T18:07:53.217318",
     "exception": false,
     "start_time": "2023-04-19T18:07:52.597064",
     "status": "completed"
    },
    "tags": []
   },
   "outputs": [
    {
     "data": {
      "text/plain": [
       "LogisticRegression()"
      ]
     },
     "execution_count": 14,
     "metadata": {},
     "output_type": "execute_result"
    }
   ],
   "source": [
    "model_lr = LogisticRegression()\n",
    "model_lr.fit(x_train, y_train)"
   ]
  },
  {
   "cell_type": "code",
   "execution_count": 15,
   "id": "c2e854e1",
   "metadata": {
    "execution": {
     "iopub.execute_input": "2023-04-19T18:07:53.254080Z",
     "iopub.status.busy": "2023-04-19T18:07:53.253410Z",
     "iopub.status.idle": "2023-04-19T18:07:53.268827Z",
     "shell.execute_reply": "2023-04-19T18:07:53.267306Z"
    },
    "papermill": {
     "duration": 0.038359,
     "end_time": "2023-04-19T18:07:53.272706",
     "exception": false,
     "start_time": "2023-04-19T18:07:53.234347",
     "status": "completed"
    },
    "tags": []
   },
   "outputs": [],
   "source": [
    "y_pred_lr = model_lr.predict(x_test)"
   ]
  },
  {
   "cell_type": "code",
   "execution_count": 16,
   "id": "d097afb5",
   "metadata": {
    "execution": {
     "iopub.execute_input": "2023-04-19T18:07:53.309061Z",
     "iopub.status.busy": "2023-04-19T18:07:53.308408Z",
     "iopub.status.idle": "2023-04-19T18:07:53.894865Z",
     "shell.execute_reply": "2023-04-19T18:07:53.893368Z"
    },
    "papermill": {
     "duration": 0.608171,
     "end_time": "2023-04-19T18:07:53.897841",
     "exception": false,
     "start_time": "2023-04-19T18:07:53.289670",
     "status": "completed"
    },
    "tags": []
   },
   "outputs": [
    {
     "name": "stdout",
     "output_type": "stream",
     "text": [
      "Precision :  1.0\n",
      "Recall :  1.0\n",
      "Accuracy :  1.0\n",
      "F1 Score :  1.0\n",
      "\n",
      "[[71256     0]\n",
      " [    0 23784]] \n",
      "\n"
     ]
    },
    {
     "data": {
      "image/png": "[encoded data removed]",
      "text/plain": [
       "<Figure size 640x480 with 2 Axes>"
      ]
     },
     "metadata": {},
     "output_type": "display_data"
    }
   ],
   "source": [
    "perform(y_pred_lr)"
   ]
  },
  {
   "cell_type": "code",
   "execution_count": 17,
   "id": "77c15313",
   "metadata": {
    "execution": {
     "iopub.execute_input": "2023-04-19T18:07:53.922822Z",
     "iopub.status.busy": "2023-04-19T18:07:53.921339Z",
     "iopub.status.idle": "2023-04-19T18:07:53.941655Z",
     "shell.execute_reply": "2023-04-19T18:07:53.940200Z"
    },
    "papermill": {
     "duration": 0.035963,
     "end_time": "2023-04-19T18:07:53.944622",
     "exception": false,
     "start_time": "2023-04-19T18:07:53.908659",
     "status": "completed"
    },
    "tags": []
   },
   "outputs": [
    {
     "data": {
      "text/html": [
       "<div>\n",
       "<style scoped>\n",
       "    .dataframe tbody tr th:only-of-type {\n",
       "        vertical-align: middle;\n",
       "    }\n",
       "\n",
       "    .dataframe tbody tr th {\n",
       "        vertical-align: top;\n",
       "    }\n",
       "\n",
       "    .dataframe thead th {\n",
       "        text-align: right;\n",
       "    }\n",
       "</style>\n",
       "<table border=\"1\" class=\"dataframe\">\n",
       "  <thead>\n",
       "    <tr style=\"text-align: right;\">\n",
       "      <th></th>\n",
       "      <th>Fever</th>\n",
       "      <th>Tiredness</th>\n",
       "      <th>Dry-Cough</th>\n",
       "      <th>Difficulty-in-Breathing</th>\n",
       "      <th>Sore-Throat</th>\n",
       "      <th>Pains</th>\n",
       "      <th>Nasal-Congestion</th>\n",
       "      <th>Runny-Nose</th>\n",
       "      <th>Diarrhea</th>\n",
       "      <th>Age_60+</th>\n",
       "      <th>Severity_Severe</th>\n",
       "      <th>prediction</th>\n",
       "    </tr>\n",
       "  </thead>\n",
       "  <tbody>\n",
       "    <tr>\n",
       "      <th>285440</th>\n",
       "      <td>1</td>\n",
       "      <td>1</td>\n",
       "      <td>1</td>\n",
       "      <td>0</td>\n",
       "      <td>0</td>\n",
       "      <td>0</td>\n",
       "      <td>1</td>\n",
       "      <td>1</td>\n",
       "      <td>1</td>\n",
       "      <td>0</td>\n",
       "      <td>1</td>\n",
       "      <td>1</td>\n",
       "    </tr>\n",
       "    <tr>\n",
       "      <th>61174</th>\n",
       "      <td>0</td>\n",
       "      <td>0</td>\n",
       "      <td>0</td>\n",
       "      <td>0</td>\n",
       "      <td>0</td>\n",
       "      <td>0</td>\n",
       "      <td>1</td>\n",
       "      <td>1</td>\n",
       "      <td>1</td>\n",
       "      <td>1</td>\n",
       "      <td>0</td>\n",
       "      <td>0</td>\n",
       "    </tr>\n",
       "    <tr>\n",
       "      <th>111620</th>\n",
       "      <td>0</td>\n",
       "      <td>0</td>\n",
       "      <td>0</td>\n",
       "      <td>1</td>\n",
       "      <td>0</td>\n",
       "      <td>0</td>\n",
       "      <td>1</td>\n",
       "      <td>0</td>\n",
       "      <td>0</td>\n",
       "      <td>0</td>\n",
       "      <td>1</td>\n",
       "      <td>1</td>\n",
       "    </tr>\n",
       "    <tr>\n",
       "      <th>44926</th>\n",
       "      <td>1</td>\n",
       "      <td>0</td>\n",
       "      <td>0</td>\n",
       "      <td>0</td>\n",
       "      <td>0</td>\n",
       "      <td>1</td>\n",
       "      <td>0</td>\n",
       "      <td>0</td>\n",
       "      <td>0</td>\n",
       "      <td>0</td>\n",
       "      <td>0</td>\n",
       "      <td>0</td>\n",
       "    </tr>\n",
       "    <tr>\n",
       "      <th>192227</th>\n",
       "      <td>1</td>\n",
       "      <td>1</td>\n",
       "      <td>1</td>\n",
       "      <td>1</td>\n",
       "      <td>1</td>\n",
       "      <td>1</td>\n",
       "      <td>1</td>\n",
       "      <td>0</td>\n",
       "      <td>0</td>\n",
       "      <td>0</td>\n",
       "      <td>0</td>\n",
       "      <td>0</td>\n",
       "    </tr>\n",
       "    <tr>\n",
       "      <th>...</th>\n",
       "      <td>...</td>\n",
       "      <td>...</td>\n",
       "      <td>...</td>\n",
       "      <td>...</td>\n",
       "      <td>...</td>\n",
       "      <td>...</td>\n",
       "      <td>...</td>\n",
       "      <td>...</td>\n",
       "      <td>...</td>\n",
       "      <td>...</td>\n",
       "      <td>...</td>\n",
       "      <td>...</td>\n",
       "    </tr>\n",
       "    <tr>\n",
       "      <th>417</th>\n",
       "      <td>1</td>\n",
       "      <td>1</td>\n",
       "      <td>0</td>\n",
       "      <td>0</td>\n",
       "      <td>0</td>\n",
       "      <td>1</td>\n",
       "      <td>1</td>\n",
       "      <td>1</td>\n",
       "      <td>0</td>\n",
       "      <td>0</td>\n",
       "      <td>0</td>\n",
       "      <td>0</td>\n",
       "    </tr>\n",
       "    <tr>\n",
       "      <th>66946</th>\n",
       "      <td>0</td>\n",
       "      <td>0</td>\n",
       "      <td>1</td>\n",
       "      <td>0</td>\n",
       "      <td>0</td>\n",
       "      <td>1</td>\n",
       "      <td>1</td>\n",
       "      <td>1</td>\n",
       "      <td>0</td>\n",
       "      <td>0</td>\n",
       "      <td>0</td>\n",
       "      <td>0</td>\n",
       "    </tr>\n",
       "    <tr>\n",
       "      <th>58871</th>\n",
       "      <td>0</td>\n",
       "      <td>0</td>\n",
       "      <td>0</td>\n",
       "      <td>1</td>\n",
       "      <td>0</td>\n",
       "      <td>0</td>\n",
       "      <td>0</td>\n",
       "      <td>0</td>\n",
       "      <td>0</td>\n",
       "      <td>1</td>\n",
       "      <td>0</td>\n",
       "      <td>0</td>\n",
       "    </tr>\n",
       "    <tr>\n",
       "      <th>92223</th>\n",
       "      <td>0</td>\n",
       "      <td>0</td>\n",
       "      <td>1</td>\n",
       "      <td>1</td>\n",
       "      <td>0</td>\n",
       "      <td>0</td>\n",
       "      <td>0</td>\n",
       "      <td>1</td>\n",
       "      <td>1</td>\n",
       "      <td>1</td>\n",
       "      <td>0</td>\n",
       "      <td>0</td>\n",
       "    </tr>\n",
       "    <tr>\n",
       "      <th>36724</th>\n",
       "      <td>0</td>\n",
       "      <td>1</td>\n",
       "      <td>1</td>\n",
       "      <td>1</td>\n",
       "      <td>0</td>\n",
       "      <td>1</td>\n",
       "      <td>1</td>\n",
       "      <td>0</td>\n",
       "      <td>0</td>\n",
       "      <td>0</td>\n",
       "      <td>0</td>\n",
       "      <td>0</td>\n",
       "    </tr>\n",
       "  </tbody>\n",
       "</table>\n",
       "<p>95040 rows × 12 columns</p>\n",
       "</div>"
      ],
      "text/plain": [
       "        Fever  Tiredness  Dry-Cough  Difficulty-in-Breathing  Sore-Throat  \\\n",
       "285440      1          1          1                        0            0   \n",
       "61174       0          0          0                        0            0   \n",
       "111620      0          0          0                        1            0   \n",
       "44926       1          0          0                        0            0   \n",
       "192227      1          1          1                        1            1   \n",
       "...       ...        ...        ...                      ...          ...   \n",
       "417         1          1          0                        0            0   \n",
       "66946       0          0          1                        0            0   \n",
       "58871       0          0          0                        1            0   \n",
       "92223       0          0          1                        1            0   \n",
       "36724       0          1          1                        1            0   \n",
       "\n",
       "        Pains  Nasal-Congestion  Runny-Nose  Diarrhea  Age_60+  \\\n",
       "285440      0                 1           1         1        0   \n",
       "61174       0                 1           1         1        1   \n",
       "111620      0                 1           0         0        0   \n",
       "44926       1                 0           0         0        0   \n",
       "192227      1                 1           0         0        0   \n",
       "...       ...               ...         ...       ...      ...   \n",
       "417         1                 1           1         0        0   \n",
       "66946       1                 1           1         0        0   \n",
       "58871       0                 0           0         0        1   \n",
       "92223       0                 0           1         1        1   \n",
       "36724       1                 1           0         0        0   \n",
       "\n",
       "        Severity_Severe  prediction  \n",
       "285440                1           1  \n",
       "61174                 0           0  \n",
       "111620                1           1  \n",
       "44926                 0           0  \n",
       "192227                0           0  \n",
       "...                 ...         ...  \n",
       "417                   0           0  \n",
       "66946                 0           0  \n",
       "58871                 0           0  \n",
       "92223                 0           0  \n",
       "36724                 0           0  \n",
       "\n",
       "[95040 rows x 12 columns]"
      ]
     },
     "execution_count": 17,
     "metadata": {},
     "output_type": "execute_result"
    }
   ],
   "source": [
    "pred['prediction'] = y_pred_lr\n",
    "pred"
   ]
  },
  {
   "cell_type": "code",
   "execution_count": 18,
   "id": "581194b2",
   "metadata": {
    "execution": {
     "iopub.execute_input": "2023-04-19T18:07:53.969149Z",
     "iopub.status.busy": "2023-04-19T18:07:53.968681Z",
     "iopub.status.idle": "2023-04-19T18:07:55.692276Z",
     "shell.execute_reply": "2023-04-19T18:07:55.690818Z"
    },
    "papermill": {
     "duration": 1.739176,
     "end_time": "2023-04-19T18:07:55.695097",
     "exception": false,
     "start_time": "2023-04-19T18:07:53.955921",
     "status": "completed"
    },
    "tags": []
   },
   "outputs": [
    {
     "data": {
      "text/plain": [
       "<seaborn.axisgrid.FacetGrid at 0x775d55937490>"
      ]
     },
     "execution_count": 18,
     "metadata": {},
     "output_type": "execute_result"
    },
    {
     "data": {
      "image/png": "[encoded data removed]",
      "text/plain": [
       "<Figure size 662.375x500 with 1 Axes>"
      ]
     },
     "metadata": {},
     "output_type": "display_data"
    }
   ],
   "source": [
    "sns.displot(pred[['prediction', 'Severity_Severe']], kde=True)"
   ]
  },
  {
   "cell_type": "code",
   "execution_count": 19,
   "id": "2fb36449",
   "metadata": {
    "execution": {
     "iopub.execute_input": "2023-04-19T18:07:55.722907Z",
     "iopub.status.busy": "2023-04-19T18:07:55.721438Z",
     "iopub.status.idle": "2023-04-19T18:07:56.914204Z",
     "shell.execute_reply": "2023-04-19T18:07:56.912787Z"
    },
    "papermill": {
     "duration": 1.209347,
     "end_time": "2023-04-19T18:07:56.917087",
     "exception": false,
     "start_time": "2023-04-19T18:07:55.707740",
     "status": "completed"
    },
    "tags": []
   },
   "outputs": [
    {
     "data": {
      "text/plain": [
       "<AxesSubplot:ylabel='Density'>"
      ]
     },
     "execution_count": 19,
     "metadata": {},
     "output_type": "execute_result"
    },
    {
     "data": {
      "image/png": "[encoded data removed]",
      "text/plain": [
       "<Figure size 640x480 with 1 Axes>"
      ]
     },
     "metadata": {},
     "output_type": "display_data"
    }
   ],
   "source": [
    "sns.kdeplot(pred[['prediction', 'Severity_Severe']])"
   ]
  }
 ],
 "metadata": {
  "kernelspec": {
   "display_name": "Python 3",
   "language": "python",
   "name": "python3"
  },
  "language_info": {
   "codemirror_mode": {
    "name": "ipython",
    "version": 3
   },
   "file_extension": ".py",
   "mimetype": "text/x-python",
   "name": "python",
   "nbconvert_exporter": "python",
   "pygments_lexer": "ipython3",
   "version": "3.7.12"
  },
  "papermill": {
   "default_parameters": {},
   "duration": 35.27286,
   "end_time": "2023-04-19T18:07:57.855363",
   "environment_variables": {},
   "exception": null,
   "input_path": "__notebook__.ipynb",
   "output_path": "__notebook__.ipynb",
   "parameters": {},
   "start_time": "2023-04-19T18:07:22.582503",
   "version": "2.4.0"
  }
 },
 "nbformat": 4,
 "nbformat_minor": 5
}
